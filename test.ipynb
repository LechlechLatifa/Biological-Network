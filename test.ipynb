{
 "cells": [
  {
   "cell_type": "code",
   "execution_count": null,
   "metadata": {},
   "outputs": [],
   "source": [
    "all_shortest_paths = []\n",
    "\n",
    "for node in network_g:\n",
    "    all_short_path_v = breadth_first_search_paths(network=network_g,s=node)\n",
    "    for short_path in all_short_path_v:\n",
    "        if not(short_path[::-1] in all_shortest_paths):\n",
    "            all_shortest_paths.append(short_path)\n",
    "\n",
    "print(all_shortest_paths)\n",
    "\n",
    "network = network_g\n",
    "\n",
    "shortest_paths_b_nodes = {}\n",
    "node_between_dict = {key: [] for key in network}\n",
    "\n",
    "path_list = all_shortest_paths.copy()\n",
    "for path in path_list:\n",
    "    s = path[0]\n",
    "    e = path[-1]\n",
    "    \n",
    "    nodes_key = s+e\n",
    "    if nodes_key in shortest_paths_b_nodes:\n",
    "        shortest_paths_b_nodes[nodes_key].append(path)\n",
    "    else:\n",
    "        shortest_paths_b_nodes[nodes_key] = [path]\n",
    "\n",
    "    # if there is nodes between node start and node end\n",
    "    path_between = path[1:-1].copy()\n",
    "    if len(path_between) > 0: \n",
    "        for node_b in path_between:\n",
    "            node_between_dict[node_b].append(nodes_key)\n",
    "        \n",
    "shortest_paths_b_nodes\n",
    "node_between_dict\n",
    "\n",
    "\n",
    "nodes_betweenness_centrality = {key: 0 for key in network}\n",
    "for network_node in node_between_dict:\n",
    "    node_between = node_between_dict[network_node].copy()\n",
    "    if len(node_between) == 0:\n",
    "        #\n",
    "        nodes_betweenness_centrality[network_node] = 0\n",
    "    else: \n",
    "        betweeness = 0\n",
    "        for nodes_key in node_between:\n",
    "            \n",
    "            betweeness += (1/len(shortest_paths_b_nodes[nodes_key]))\n",
    "        nodes_betweenness_centrality[network_node] = betweeness\n",
    "nodes_betweenness_centrality"
   ]
  },
  {
   "cell_type": "code",
   "execution_count": null,
   "metadata": {},
   "outputs": [],
   "source": [
    "breadth_first_search_paths(network_3,'13')"
   ]
  }
 ],
 "metadata": {
  "language_info": {
   "name": "python"
  }
 },
 "nbformat": 4,
 "nbformat_minor": 2
}
